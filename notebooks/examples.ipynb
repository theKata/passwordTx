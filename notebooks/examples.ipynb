{
 "cells": [
  {
   "cell_type": "code",
   "execution_count": 1,
   "id": "9a0bda0f",
   "metadata": {},
   "outputs": [],
   "source": [
    "from passwordTx import PasswordTx\n",
    "from web3 import Web3"
   ]
  },
  {
   "cell_type": "markdown",
   "id": "4d551f16",
   "metadata": {},
   "source": [
    "### 1. Register private key"
   ]
  },
  {
   "cell_type": "code",
   "execution_count": 4,
   "id": "29d7cc80",
   "metadata": {},
   "outputs": [
    {
     "name": "stdout",
     "output_type": "stream",
     "text": [
      "NEW PASSWORD :········\n",
      "PRIVATE KEY : ········\n"
     ]
    }
   ],
   "source": [
    "web3 = Web3(Web3.HTTPProvider(\"http://127.0.0.1:8545\"))\n",
    "\n",
    "passwordTx = PasswordTx(\"developer\", web3)"
   ]
  },
  {
   "cell_type": "markdown",
   "id": "e965ef8d",
   "metadata": {},
   "source": [
    "### 2. send Tx with PasswordTx"
   ]
  },
  {
   "cell_type": "code",
   "execution_count": 9,
   "id": "c9e8a438",
   "metadata": {},
   "outputs": [],
   "source": [
    "erc20 = web3.eth.contract(\n",
    "    address=\"0x10cc453eA2d3d8C89Efb9EDf1Df7c237CC9b25Da\",\n",
    "    abi=[\n",
    "          {\n",
    "            \"inputs\": [\n",
    "              {\"internalType\": \"address\",\"name\": \"to\",\"type\": \"address\"},\n",
    "              {\"internalType\": \"uint256\",\"name\": \"amount\",\"type\": \"uint256\"}\n",
    "            ],\n",
    "            \"name\": \"transfer\",\n",
    "            \"outputs\": [\n",
    "              {\"internalType\": \"bool\", \"name\": \"\", \"type\": \"bool\"}\n",
    "            ],\n",
    "            \"stateMutability\": \"nonpayable\",\n",
    "            \"type\": \"function\"\n",
    "          }\n",
    "    ]\n",
    ")"
   ]
  },
  {
   "cell_type": "code",
   "execution_count": 6,
   "id": "476870d0",
   "metadata": {},
   "outputs": [
    {
     "name": "stdout",
     "output_type": "stream",
     "text": [
      "PASSWORD :········\n",
      "connect to address($0xf39Fd6e51aad88F6F4ce6aB8827279cffFb92266)\n",
      "CALL: transfer('0x70997970C51812dc3A010C7d01b50e0d17dc79C8', 120000000000000000000) \n",
      "TO: 0x10cc453eA2d3d8C89Efb9EDf1Df7c237CC9b25Da\n"
     ]
    },
    {
     "name": "stderr",
     "output_type": "stream",
     "text": [
      "/opt/homebrew/Caskroom/miniforge/base/lib/python3.8/site-packages/web3/eth.py:656: UserWarning: There was an issue with the method eth_maxPriorityFeePerGas. Calculating using eth_feeHistory.\n",
      "  warnings.warn(\n"
     ]
    },
    {
     "name": "stdout",
     "output_type": "stream",
     "text": [
      "RESULT : success\n",
      "\n"
     ]
    }
   ],
   "source": [
    "with passwordTx:\n",
    "    passwordTx.send(\n",
    "        erc20.functions.transfer(web3.toChecksumAddress(\"0x70997970c51812dc3a010c7d01b50e0d17dc79c8\"), 120 * 10 **18)\n",
    "    )"
   ]
  },
  {
   "cell_type": "markdown",
   "id": "d76ee80f",
   "metadata": {},
   "source": [
    "### 3. destroy private key"
   ]
  },
  {
   "cell_type": "code",
   "execution_count": 8,
   "id": "e666a17b",
   "metadata": {},
   "outputs": [
    {
     "name": "stdout",
     "output_type": "stream",
     "text": [
      "PASSWORD :········\n"
     ]
    }
   ],
   "source": [
    "passwordTx.destroy()"
   ]
  }
 ],
 "metadata": {
  "kernelspec": {
   "display_name": "Python 3 (ipykernel)",
   "language": "python",
   "name": "python3"
  },
  "language_info": {
   "codemirror_mode": {
    "name": "ipython",
    "version": 3
   },
   "file_extension": ".py",
   "mimetype": "text/x-python",
   "name": "python",
   "nbconvert_exporter": "python",
   "pygments_lexer": "ipython3",
   "version": "3.8.12"
  }
 },
 "nbformat": 4,
 "nbformat_minor": 5
}
